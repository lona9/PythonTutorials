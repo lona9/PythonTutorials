{
 "cells": [
  {
   "cell_type": "markdown",
   "id": "e2fdbfa2",
   "metadata": {},
   "source": [
    "Hello"
   ]
  },
  {
   "cell_type": "markdown",
   "id": "571e678e",
   "metadata": {},
   "source": [
    "Menu"
   ]
  },
  {
   "cell_type": "markdown",
   "id": "22893d1f",
   "metadata": {},
   "source": [
    "Introduction"
   ]
  },
  {
   "cell_type": "markdown",
   "id": "8c529978",
   "metadata": {},
   "source": [
    "Reading and opening files\n",
    "    read_csv and its arguments\n",
    "    to_csv and its arguments\n",
    "    Index and labels, renaming columns\n",
    "    xls packages"
   ]
  },
  {
   "cell_type": "markdown",
   "id": "a462feb1",
   "metadata": {},
   "source": [
    "Assessing and cleaning with pandas\n",
    "    head, tail, shape, dtypes, info, describe, unique, isnull, value_counts...\n",
    "    drop, fillna, replace, dropna, astype...\n",
    "    append, merge, melt\n",
    "    groupby, query, slices\n",
    "    split, join and string manipulation\n",
    "    apply for functions"
   ]
  }
 ],
 "metadata": {
  "kernelspec": {
   "display_name": "Python 3",
   "language": "python",
   "name": "python3"
  },
  "language_info": {
   "codemirror_mode": {
    "name": "ipython",
    "version": 3
   },
   "file_extension": ".py",
   "mimetype": "text/x-python",
   "name": "python",
   "nbconvert_exporter": "python",
   "pygments_lexer": "ipython3",
   "version": "3.8.8"
  }
 },
 "nbformat": 4,
 "nbformat_minor": 5
}
