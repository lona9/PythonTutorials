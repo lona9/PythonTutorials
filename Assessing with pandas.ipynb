{
 "cells": [
  {
   "cell_type": "markdown",
   "id": "8d158816",
   "metadata": {},
   "source": [
    "## Hello!\n",
    "\n",
    "You already know what ```pandas``` is, can open your files, but you're not sure how to explore your data efficiently, or get useful information out of the DataFrames you just created? This tutorial will cover the most important assessing functions and methods for data exploration with ```pandas```!\n",
    "\n",
    "*If you're unsure about the basics, you should check the <a href=\"https://github.com/lona9/PythonTutorials/blob/master/Basic%20pandas.ipynb\">Basic pandas Tutorial</a> first!*"
   ]
  },
  {
   "cell_type": "markdown",
   "id": "d2ddcb74",
   "metadata": {},
   "source": [
    "## Menu\n",
    "- <a href=\"#methods\">Assessing methods</a>\n",
    "- <a href=\"#selecting\">Selecting rows and colums</a>\n",
    "- <a href=\"#queries\">Queries and groupby</a>"
   ]
  },
  {
   "cell_type": "markdown",
   "id": "b1a575eb",
   "metadata": {},
   "source": [
    "<a id=\"methods\"></a>\n",
    "## Assessing methods\n",
    "One of the advantages of using pandas in a Notebook is the visual assessment we can do with little code, as the DataFrames display nicely on the Notebook as we code. This comes with a bunch of different methods to assess our data. We've already used one a lot of times in this Notebook already, and that is the <a href=\"https://pandas.pydata.org/docs/reference/api/pandas.DataFrame.head.html\">```head()```</a> method, which display the first n rows of your DataFrame, and will come as second nature when you want to check the general state of your DataFrame. This method has a default ```n=5``` argument, which can be changed to see more rows if you want to get a bigger picture."
   ]
  },
  {
   "cell_type": "code",
   "execution_count": 8,
   "id": "e2af3ca5",
   "metadata": {
    "scrolled": true
   },
   "outputs": [
    {
     "data": {
      "text/html": [
       "<div>\n",
       "<style scoped>\n",
       "    .dataframe tbody tr th:only-of-type {\n",
       "        vertical-align: middle;\n",
       "    }\n",
       "\n",
       "    .dataframe tbody tr th {\n",
       "        vertical-align: top;\n",
       "    }\n",
       "\n",
       "    .dataframe thead th {\n",
       "        text-align: right;\n",
       "    }\n",
       "</style>\n",
       "<table border=\"1\" class=\"dataframe\">\n",
       "  <thead>\n",
       "    <tr style=\"text-align: right;\">\n",
       "      <th></th>\n",
       "      <th>patient_id</th>\n",
       "      <th>appointment_id</th>\n",
       "      <th>gender</th>\n",
       "      <th>scheduled_date</th>\n",
       "      <th>appointment_date</th>\n",
       "      <th>age</th>\n",
       "      <th>neighbourhood</th>\n",
       "      <th>scholarship</th>\n",
       "      <th>hipertension</th>\n",
       "      <th>diabetes</th>\n",
       "      <th>alcoholism</th>\n",
       "      <th>handcap</th>\n",
       "      <th>sms_received</th>\n",
       "      <th>no_show</th>\n",
       "    </tr>\n",
       "  </thead>\n",
       "  <tbody>\n",
       "    <tr>\n",
       "      <th>0</th>\n",
       "      <td>2.987250e+13</td>\n",
       "      <td>5642903</td>\n",
       "      <td>F</td>\n",
       "      <td>2016-04-29T18:38:08Z</td>\n",
       "      <td>2016-04-29T00:00:00Z</td>\n",
       "      <td>62</td>\n",
       "      <td>JARDIM DA PENHA</td>\n",
       "      <td>0.0</td>\n",
       "      <td>1.0</td>\n",
       "      <td>0.0</td>\n",
       "      <td>0.0</td>\n",
       "      <td>0.0</td>\n",
       "      <td>0.0</td>\n",
       "      <td>No</td>\n",
       "    </tr>\n",
       "    <tr>\n",
       "      <th>1</th>\n",
       "      <td>5.589978e+14</td>\n",
       "      <td>5642503</td>\n",
       "      <td>M</td>\n",
       "      <td>2016-04-29T16:08:27Z</td>\n",
       "      <td>2016-04-29T00:00:00Z</td>\n",
       "      <td>56</td>\n",
       "      <td>JARDIM DA PENHA</td>\n",
       "      <td>0.0</td>\n",
       "      <td>0.0</td>\n",
       "      <td>0.0</td>\n",
       "      <td>0.0</td>\n",
       "      <td>0.0</td>\n",
       "      <td>0.0</td>\n",
       "      <td>No</td>\n",
       "    </tr>\n",
       "    <tr>\n",
       "      <th>2</th>\n",
       "      <td>4.262962e+12</td>\n",
       "      <td>5642549</td>\n",
       "      <td>F</td>\n",
       "      <td>2016-04-29T16:19:04Z</td>\n",
       "      <td>2016-04-29T00:00:00Z</td>\n",
       "      <td>62</td>\n",
       "      <td>MATA DA PRAIA</td>\n",
       "      <td>0.0</td>\n",
       "      <td>0.0</td>\n",
       "      <td>0.0</td>\n",
       "      <td>0.0</td>\n",
       "      <td>0.0</td>\n",
       "      <td>0.0</td>\n",
       "      <td>No</td>\n",
       "    </tr>\n",
       "    <tr>\n",
       "      <th>3</th>\n",
       "      <td>8.679512e+11</td>\n",
       "      <td>5642828</td>\n",
       "      <td>F</td>\n",
       "      <td>2016-04-29T17:29:31Z</td>\n",
       "      <td>2016-04-29T00:00:00Z</td>\n",
       "      <td>8</td>\n",
       "      <td>PONTAL DE CAMBURI</td>\n",
       "      <td>0.0</td>\n",
       "      <td>0.0</td>\n",
       "      <td>0.0</td>\n",
       "      <td>0.0</td>\n",
       "      <td>0.0</td>\n",
       "      <td>0.0</td>\n",
       "      <td>No</td>\n",
       "    </tr>\n",
       "    <tr>\n",
       "      <th>4</th>\n",
       "      <td>8.841186e+12</td>\n",
       "      <td>5642494</td>\n",
       "      <td>F</td>\n",
       "      <td>2016-04-29T16:07:23Z</td>\n",
       "      <td>2016-04-29T00:00:00Z</td>\n",
       "      <td>56</td>\n",
       "      <td>JARDIM DA PENHA</td>\n",
       "      <td>0.0</td>\n",
       "      <td>1.0</td>\n",
       "      <td>1.0</td>\n",
       "      <td>0.0</td>\n",
       "      <td>0.0</td>\n",
       "      <td>0.0</td>\n",
       "      <td>No</td>\n",
       "    </tr>\n",
       "    <tr>\n",
       "      <th>5</th>\n",
       "      <td>9.598513e+13</td>\n",
       "      <td>5626772</td>\n",
       "      <td>F</td>\n",
       "      <td>2016-04-27T08:36:51Z</td>\n",
       "      <td>2016-04-29T00:00:00Z</td>\n",
       "      <td>76</td>\n",
       "      <td>REPÚBLICA</td>\n",
       "      <td>0.0</td>\n",
       "      <td>1.0</td>\n",
       "      <td>0.0</td>\n",
       "      <td>0.0</td>\n",
       "      <td>0.0</td>\n",
       "      <td>0.0</td>\n",
       "      <td>No</td>\n",
       "    </tr>\n",
       "    <tr>\n",
       "      <th>6</th>\n",
       "      <td>7.336882e+14</td>\n",
       "      <td>5630279</td>\n",
       "      <td>F</td>\n",
       "      <td>2016-04-27T15:05:12Z</td>\n",
       "      <td>2016-04-29T00:00:00Z</td>\n",
       "      <td>23</td>\n",
       "      <td>GOIABEIRAS</td>\n",
       "      <td>0.0</td>\n",
       "      <td>0.0</td>\n",
       "      <td>0.0</td>\n",
       "      <td>0.0</td>\n",
       "      <td>0.0</td>\n",
       "      <td>0.0</td>\n",
       "      <td>Yes</td>\n",
       "    </tr>\n",
       "    <tr>\n",
       "      <th>7</th>\n",
       "      <td>3.449833e+12</td>\n",
       "      <td>5630575</td>\n",
       "      <td>F</td>\n",
       "      <td>2016-04-27T15:39:58Z</td>\n",
       "      <td>2016-04-29T00:00:00Z</td>\n",
       "      <td>39</td>\n",
       "      <td>GOIABEIRAS</td>\n",
       "      <td>0.0</td>\n",
       "      <td>0.0</td>\n",
       "      <td>0.0</td>\n",
       "      <td>0.0</td>\n",
       "      <td>0.0</td>\n",
       "      <td>0.0</td>\n",
       "      <td>Yes</td>\n",
       "    </tr>\n",
       "    <tr>\n",
       "      <th>8</th>\n",
       "      <td>5.639473e+13</td>\n",
       "      <td>5638447</td>\n",
       "      <td>F</td>\n",
       "      <td>2016-04-29T08:02:16Z</td>\n",
       "      <td>2016-04-29T00:00:00Z</td>\n",
       "      <td>21</td>\n",
       "      <td>ANDORINHAS</td>\n",
       "      <td>0.0</td>\n",
       "      <td>0.0</td>\n",
       "      <td>0.0</td>\n",
       "      <td>0.0</td>\n",
       "      <td>0.0</td>\n",
       "      <td>0.0</td>\n",
       "      <td>No</td>\n",
       "    </tr>\n",
       "    <tr>\n",
       "      <th>9</th>\n",
       "      <td>7.812456e+13</td>\n",
       "      <td>5629123</td>\n",
       "      <td>F</td>\n",
       "      <td>2016-04-27T12:48:25Z</td>\n",
       "      <td>2016-04-29T00:00:00Z</td>\n",
       "      <td>19</td>\n",
       "      <td>CONQUISTA</td>\n",
       "      <td>0.0</td>\n",
       "      <td>0.0</td>\n",
       "      <td>0.0</td>\n",
       "      <td>0.0</td>\n",
       "      <td>0.0</td>\n",
       "      <td>0.0</td>\n",
       "      <td>No</td>\n",
       "    </tr>\n",
       "  </tbody>\n",
       "</table>\n",
       "</div>"
      ],
      "text/plain": [
       "     patient_id  appointment_id gender        scheduled_date  \\\n",
       "0  2.987250e+13         5642903      F  2016-04-29T18:38:08Z   \n",
       "1  5.589978e+14         5642503      M  2016-04-29T16:08:27Z   \n",
       "2  4.262962e+12         5642549      F  2016-04-29T16:19:04Z   \n",
       "3  8.679512e+11         5642828      F  2016-04-29T17:29:31Z   \n",
       "4  8.841186e+12         5642494      F  2016-04-29T16:07:23Z   \n",
       "5  9.598513e+13         5626772      F  2016-04-27T08:36:51Z   \n",
       "6  7.336882e+14         5630279      F  2016-04-27T15:05:12Z   \n",
       "7  3.449833e+12         5630575      F  2016-04-27T15:39:58Z   \n",
       "8  5.639473e+13         5638447      F  2016-04-29T08:02:16Z   \n",
       "9  7.812456e+13         5629123      F  2016-04-27T12:48:25Z   \n",
       "\n",
       "       appointment_date  age      neighbourhood  scholarship  hipertension  \\\n",
       "0  2016-04-29T00:00:00Z   62    JARDIM DA PENHA          0.0           1.0   \n",
       "1  2016-04-29T00:00:00Z   56    JARDIM DA PENHA          0.0           0.0   \n",
       "2  2016-04-29T00:00:00Z   62      MATA DA PRAIA          0.0           0.0   \n",
       "3  2016-04-29T00:00:00Z    8  PONTAL DE CAMBURI          0.0           0.0   \n",
       "4  2016-04-29T00:00:00Z   56    JARDIM DA PENHA          0.0           1.0   \n",
       "5  2016-04-29T00:00:00Z   76          REPÚBLICA          0.0           1.0   \n",
       "6  2016-04-29T00:00:00Z   23         GOIABEIRAS          0.0           0.0   \n",
       "7  2016-04-29T00:00:00Z   39         GOIABEIRAS          0.0           0.0   \n",
       "8  2016-04-29T00:00:00Z   21         ANDORINHAS          0.0           0.0   \n",
       "9  2016-04-29T00:00:00Z   19          CONQUISTA          0.0           0.0   \n",
       "\n",
       "   diabetes  alcoholism  handcap  sms_received no_show  \n",
       "0       0.0         0.0      0.0           0.0      No  \n",
       "1       0.0         0.0      0.0           0.0      No  \n",
       "2       0.0         0.0      0.0           0.0      No  \n",
       "3       0.0         0.0      0.0           0.0      No  \n",
       "4       1.0         0.0      0.0           0.0      No  \n",
       "5       0.0         0.0      0.0           0.0      No  \n",
       "6       0.0         0.0      0.0           0.0     Yes  \n",
       "7       0.0         0.0      0.0           0.0     Yes  \n",
       "8       0.0         0.0      0.0           0.0      No  \n",
       "9       0.0         0.0      0.0           0.0      No  "
      ]
     },
     "execution_count": 8,
     "metadata": {},
     "output_type": "execute_result"
    }
   ],
   "source": [
    "df = pd.read_csv(\"noshowappointments-kagglev2-may-2016.csv\", header=0, names=column_names)\n",
    "df.head(10)"
   ]
  },
  {
   "cell_type": "markdown",
   "id": "2ce3013e",
   "metadata": {},
   "source": [
    "This method comes with an opposite, the <a href=\"https://pandas.pydata.org/docs/reference/api/pandas.DataFrame.tail.html#pandas.DataFrame.tail\">```tail()```</a> method, which will show you the last n rows of your DataFrame, and also has a ```n=5``` default value."
   ]
  },
  {
   "cell_type": "code",
   "execution_count": 9,
   "id": "c0ebdf6b",
   "metadata": {
    "scrolled": true
   },
   "outputs": [
    {
     "data": {
      "text/html": [
       "<div>\n",
       "<style scoped>\n",
       "    .dataframe tbody tr th:only-of-type {\n",
       "        vertical-align: middle;\n",
       "    }\n",
       "\n",
       "    .dataframe tbody tr th {\n",
       "        vertical-align: top;\n",
       "    }\n",
       "\n",
       "    .dataframe thead th {\n",
       "        text-align: right;\n",
       "    }\n",
       "</style>\n",
       "<table border=\"1\" class=\"dataframe\">\n",
       "  <thead>\n",
       "    <tr style=\"text-align: right;\">\n",
       "      <th></th>\n",
       "      <th>patient_id</th>\n",
       "      <th>appointment_id</th>\n",
       "      <th>gender</th>\n",
       "      <th>scheduled_date</th>\n",
       "      <th>appointment_date</th>\n",
       "      <th>age</th>\n",
       "      <th>neighbourhood</th>\n",
       "      <th>scholarship</th>\n",
       "      <th>hipertension</th>\n",
       "      <th>diabetes</th>\n",
       "      <th>alcoholism</th>\n",
       "      <th>handcap</th>\n",
       "      <th>sms_received</th>\n",
       "      <th>no_show</th>\n",
       "    </tr>\n",
       "  </thead>\n",
       "  <tbody>\n",
       "    <tr>\n",
       "      <th>110532</th>\n",
       "      <td>2.572134e+12</td>\n",
       "      <td>5651768</td>\n",
       "      <td>F</td>\n",
       "      <td>2016-05-03T09:15:35Z</td>\n",
       "      <td>2016-06-07T00:00:00Z</td>\n",
       "      <td>56</td>\n",
       "      <td>MARIA ORTIZ</td>\n",
       "      <td>0.0</td>\n",
       "      <td>0.0</td>\n",
       "      <td>0.0</td>\n",
       "      <td>0.0</td>\n",
       "      <td>0.0</td>\n",
       "      <td>1.0</td>\n",
       "      <td>No</td>\n",
       "    </tr>\n",
       "    <tr>\n",
       "      <th>110533</th>\n",
       "      <td>3.596266e+12</td>\n",
       "      <td>5650093</td>\n",
       "      <td>F</td>\n",
       "      <td>2016-05-03T07:27:33Z</td>\n",
       "      <td>2016-06-07T00:00:00Z</td>\n",
       "      <td>51</td>\n",
       "      <td>MARIA ORTIZ</td>\n",
       "      <td>0.0</td>\n",
       "      <td>0.0</td>\n",
       "      <td>0.0</td>\n",
       "      <td>0.0</td>\n",
       "      <td>0.0</td>\n",
       "      <td>1.0</td>\n",
       "      <td>No</td>\n",
       "    </tr>\n",
       "    <tr>\n",
       "      <th>110534</th>\n",
       "      <td>1.557663e+13</td>\n",
       "      <td>5630692</td>\n",
       "      <td>F</td>\n",
       "      <td>2016-04-27T16:03:52Z</td>\n",
       "      <td>2016-06-07T00:00:00Z</td>\n",
       "      <td>21</td>\n",
       "      <td>MARIA ORTIZ</td>\n",
       "      <td>0.0</td>\n",
       "      <td>0.0</td>\n",
       "      <td>0.0</td>\n",
       "      <td>0.0</td>\n",
       "      <td>0.0</td>\n",
       "      <td>1.0</td>\n",
       "      <td>No</td>\n",
       "    </tr>\n",
       "    <tr>\n",
       "      <th>110535</th>\n",
       "      <td>9.213493e+13</td>\n",
       "      <td>5630323</td>\n",
       "      <td>F</td>\n",
       "      <td>2016-04-27T15:09:23Z</td>\n",
       "      <td>2016-06-07T00:00:00Z</td>\n",
       "      <td>38</td>\n",
       "      <td>MARIA ORTIZ</td>\n",
       "      <td>0.0</td>\n",
       "      <td>0.0</td>\n",
       "      <td>0.0</td>\n",
       "      <td>0.0</td>\n",
       "      <td>0.0</td>\n",
       "      <td>1.0</td>\n",
       "      <td>No</td>\n",
       "    </tr>\n",
       "    <tr>\n",
       "      <th>110536</th>\n",
       "      <td>3.775115e+14</td>\n",
       "      <td>5629448</td>\n",
       "      <td>F</td>\n",
       "      <td>2016-04-27T13:30:56Z</td>\n",
       "      <td>2016-06-07T00:00:00Z</td>\n",
       "      <td>54</td>\n",
       "      <td>MARIA ORTIZ</td>\n",
       "      <td>0.0</td>\n",
       "      <td>0.0</td>\n",
       "      <td>0.0</td>\n",
       "      <td>0.0</td>\n",
       "      <td>0.0</td>\n",
       "      <td>1.0</td>\n",
       "      <td>No</td>\n",
       "    </tr>\n",
       "  </tbody>\n",
       "</table>\n",
       "</div>"
      ],
      "text/plain": [
       "          patient_id  appointment_id gender        scheduled_date  \\\n",
       "110532  2.572134e+12         5651768      F  2016-05-03T09:15:35Z   \n",
       "110533  3.596266e+12         5650093      F  2016-05-03T07:27:33Z   \n",
       "110534  1.557663e+13         5630692      F  2016-04-27T16:03:52Z   \n",
       "110535  9.213493e+13         5630323      F  2016-04-27T15:09:23Z   \n",
       "110536  3.775115e+14         5629448      F  2016-04-27T13:30:56Z   \n",
       "\n",
       "            appointment_date  age neighbourhood  scholarship  hipertension  \\\n",
       "110532  2016-06-07T00:00:00Z   56   MARIA ORTIZ          0.0           0.0   \n",
       "110533  2016-06-07T00:00:00Z   51   MARIA ORTIZ          0.0           0.0   \n",
       "110534  2016-06-07T00:00:00Z   21   MARIA ORTIZ          0.0           0.0   \n",
       "110535  2016-06-07T00:00:00Z   38   MARIA ORTIZ          0.0           0.0   \n",
       "110536  2016-06-07T00:00:00Z   54   MARIA ORTIZ          0.0           0.0   \n",
       "\n",
       "        diabetes  alcoholism  handcap  sms_received no_show  \n",
       "110532       0.0         0.0      0.0           1.0      No  \n",
       "110533       0.0         0.0      0.0           1.0      No  \n",
       "110534       0.0         0.0      0.0           1.0      No  \n",
       "110535       0.0         0.0      0.0           1.0      No  \n",
       "110536       0.0         0.0      0.0           1.0      No  "
      ]
     },
     "execution_count": 9,
     "metadata": {},
     "output_type": "execute_result"
    }
   ],
   "source": [
    "df.tail()"
   ]
  },
  {
   "cell_type": "markdown",
   "id": "38504f0e",
   "metadata": {},
   "source": [
    "While this methods give us a quick visual assessment, we might want to get further info on the dimensions of our DataFrame or the datatypes we're dealing with.<br>\n",
    "For instance, we can use <a href=\"https://pandas.pydata.org/docs/reference/api/pandas.DataFrame.shape.html?highlight=shape#pandas.DataFrame.shape\">```shape```</a> to get the dimentionality of our DataFrame as a tuple, representing the amount of rows and columns our DataFrame has, respectively. We could also use <a href=\"https://pandas.pydata.org/docs/reference/api/pandas.DataFrame.dtypes.html\">```dtypes```</a> to check the data type for each of our columns.<br>"
   ]
  },
  {
   "cell_type": "code",
   "execution_count": 10,
   "id": "725cb258",
   "metadata": {},
   "outputs": [
    {
     "data": {
      "text/plain": [
       "(110537, 14)"
      ]
     },
     "execution_count": 10,
     "metadata": {},
     "output_type": "execute_result"
    }
   ],
   "source": [
    "df.shape"
   ]
  },
  {
   "cell_type": "code",
   "execution_count": 11,
   "id": "5066612c",
   "metadata": {},
   "outputs": [
    {
     "data": {
      "text/plain": [
       "patient_id          float64\n",
       "appointment_id        int64\n",
       "gender               object\n",
       "scheduled_date       object\n",
       "appointment_date     object\n",
       "age                   int64\n",
       "neighbourhood        object\n",
       "scholarship         float64\n",
       "hipertension        float64\n",
       "diabetes            float64\n",
       "alcoholism          float64\n",
       "handcap             float64\n",
       "sms_received        float64\n",
       "no_show              object\n",
       "dtype: object"
      ]
     },
     "execution_count": 11,
     "metadata": {},
     "output_type": "execute_result"
    }
   ],
   "source": [
    "df.dtypes"
   ]
  },
  {
   "cell_type": "markdown",
   "id": "a998d409",
   "metadata": {},
   "source": [
    "If we want to check what's going on with duplicates or null values, we can use <a href=\"https://pandas.pydata.org/docs/reference/api/pandas.DataFrame.isnull.html\">```isnull()```</a> to check missing values, and we can check for each column adding <a href=\"https://pandas.pydata.org/docs/reference/api/pandas.DataFrame.sum.html?highlight=sum#pandas.DataFrame.sum\">```sum()```</a> at the end."
   ]
  },
  {
   "cell_type": "code",
   "execution_count": 12,
   "id": "43b4a3d9",
   "metadata": {
    "scrolled": false
   },
   "outputs": [
    {
     "data": {
      "text/plain": [
       "patient_id          0\n",
       "appointment_id      0\n",
       "gender              4\n",
       "scheduled_date      0\n",
       "appointment_date    0\n",
       "age                 0\n",
       "neighbourhood       0\n",
       "scholarship         2\n",
       "hipertension        2\n",
       "diabetes            2\n",
       "alcoholism          4\n",
       "handcap             3\n",
       "sms_received        2\n",
       "no_show             0\n",
       "dtype: int64"
      ]
     },
     "execution_count": 12,
     "metadata": {},
     "output_type": "execute_result"
    }
   ],
   "source": [
    "df.isnull().sum()"
   ]
  },
  {
   "cell_type": "markdown",
   "id": "a106f85b",
   "metadata": {},
   "source": [
    "There's a few columns with null values in them, and we'll see how to deal with those later. We can get a summary of all methods and functions mentioned above with <a href=\"https://pandas.pydata.org/docs/reference/api/pandas.DataFrame.info.html\">```info()```</a>, which gives us an overall picture of dimensions, nulls, and data types."
   ]
  },
  {
   "cell_type": "code",
   "execution_count": 13,
   "id": "222c297b",
   "metadata": {
    "scrolled": false
   },
   "outputs": [
    {
     "name": "stdout",
     "output_type": "stream",
     "text": [
      "<class 'pandas.core.frame.DataFrame'>\n",
      "RangeIndex: 110537 entries, 0 to 110536\n",
      "Data columns (total 14 columns):\n",
      " #   Column            Non-Null Count   Dtype  \n",
      "---  ------            --------------   -----  \n",
      " 0   patient_id        110537 non-null  float64\n",
      " 1   appointment_id    110537 non-null  int64  \n",
      " 2   gender            110533 non-null  object \n",
      " 3   scheduled_date    110537 non-null  object \n",
      " 4   appointment_date  110537 non-null  object \n",
      " 5   age               110537 non-null  int64  \n",
      " 6   neighbourhood     110537 non-null  object \n",
      " 7   scholarship       110535 non-null  float64\n",
      " 8   hipertension      110535 non-null  float64\n",
      " 9   diabetes          110535 non-null  float64\n",
      " 10  alcoholism        110533 non-null  float64\n",
      " 11  handcap           110534 non-null  float64\n",
      " 12  sms_received      110535 non-null  float64\n",
      " 13  no_show           110537 non-null  object \n",
      "dtypes: float64(7), int64(2), object(5)\n",
      "memory usage: 11.8+ MB\n"
     ]
    }
   ],
   "source": [
    "df.info()"
   ]
  },
  {
   "cell_type": "markdown",
   "id": "2a25a490",
   "metadata": {},
   "source": [
    "For descriptive statistics, we have the <a href=\"https://pandas.pydata.org/docs/reference/api/pandas.DataFrame.describe.html\">```describe()```</a> method, which will give us central tendency measures, dispersion and shape excluding NaN values. This will describe all the column with numeric values, as seen below with columns with numeric datatypes (```int``` of ```float```). There's a particular case with IDs, as they are numeric in nature but are not meant to be processed as numbers because they're identifiers."
   ]
  },
  {
   "cell_type": "code",
   "execution_count": 14,
   "id": "1cb0f910",
   "metadata": {
    "scrolled": true
   },
   "outputs": [
    {
     "data": {
      "text/html": [
       "<div>\n",
       "<style scoped>\n",
       "    .dataframe tbody tr th:only-of-type {\n",
       "        vertical-align: middle;\n",
       "    }\n",
       "\n",
       "    .dataframe tbody tr th {\n",
       "        vertical-align: top;\n",
       "    }\n",
       "\n",
       "    .dataframe thead th {\n",
       "        text-align: right;\n",
       "    }\n",
       "</style>\n",
       "<table border=\"1\" class=\"dataframe\">\n",
       "  <thead>\n",
       "    <tr style=\"text-align: right;\">\n",
       "      <th></th>\n",
       "      <th>patient_id</th>\n",
       "      <th>appointment_id</th>\n",
       "      <th>age</th>\n",
       "      <th>scholarship</th>\n",
       "      <th>hipertension</th>\n",
       "      <th>diabetes</th>\n",
       "      <th>alcoholism</th>\n",
       "      <th>handcap</th>\n",
       "      <th>sms_received</th>\n",
       "    </tr>\n",
       "  </thead>\n",
       "  <tbody>\n",
       "    <tr>\n",
       "      <th>count</th>\n",
       "      <td>1.105370e+05</td>\n",
       "      <td>1.105370e+05</td>\n",
       "      <td>110537.000000</td>\n",
       "      <td>110535.000000</td>\n",
       "      <td>110535.000000</td>\n",
       "      <td>110535.000000</td>\n",
       "      <td>110533.000000</td>\n",
       "      <td>110534.000000</td>\n",
       "      <td>110535.000000</td>\n",
       "    </tr>\n",
       "    <tr>\n",
       "      <th>mean</th>\n",
       "      <td>1.474926e+14</td>\n",
       "      <td>5.675295e+06</td>\n",
       "      <td>37.088957</td>\n",
       "      <td>0.098268</td>\n",
       "      <td>0.197232</td>\n",
       "      <td>0.071869</td>\n",
       "      <td>0.030398</td>\n",
       "      <td>0.022247</td>\n",
       "      <td>0.321057</td>\n",
       "    </tr>\n",
       "    <tr>\n",
       "      <th>std</th>\n",
       "      <td>2.560896e+14</td>\n",
       "      <td>7.130239e+04</td>\n",
       "      <td>23.109720</td>\n",
       "      <td>0.297677</td>\n",
       "      <td>0.397910</td>\n",
       "      <td>0.258271</td>\n",
       "      <td>0.171681</td>\n",
       "      <td>0.161538</td>\n",
       "      <td>0.466885</td>\n",
       "    </tr>\n",
       "    <tr>\n",
       "      <th>min</th>\n",
       "      <td>3.921784e+04</td>\n",
       "      <td>5.030230e+06</td>\n",
       "      <td>-1.000000</td>\n",
       "      <td>0.000000</td>\n",
       "      <td>0.000000</td>\n",
       "      <td>0.000000</td>\n",
       "      <td>0.000000</td>\n",
       "      <td>0.000000</td>\n",
       "      <td>0.000000</td>\n",
       "    </tr>\n",
       "    <tr>\n",
       "      <th>25%</th>\n",
       "      <td>4.172772e+12</td>\n",
       "      <td>5.640276e+06</td>\n",
       "      <td>18.000000</td>\n",
       "      <td>0.000000</td>\n",
       "      <td>0.000000</td>\n",
       "      <td>0.000000</td>\n",
       "      <td>0.000000</td>\n",
       "      <td>0.000000</td>\n",
       "      <td>0.000000</td>\n",
       "    </tr>\n",
       "    <tr>\n",
       "      <th>50%</th>\n",
       "      <td>3.173185e+13</td>\n",
       "      <td>5.680565e+06</td>\n",
       "      <td>37.000000</td>\n",
       "      <td>0.000000</td>\n",
       "      <td>0.000000</td>\n",
       "      <td>0.000000</td>\n",
       "      <td>0.000000</td>\n",
       "      <td>0.000000</td>\n",
       "      <td>0.000000</td>\n",
       "    </tr>\n",
       "    <tr>\n",
       "      <th>75%</th>\n",
       "      <td>9.439381e+13</td>\n",
       "      <td>5.725514e+06</td>\n",
       "      <td>55.000000</td>\n",
       "      <td>0.000000</td>\n",
       "      <td>0.000000</td>\n",
       "      <td>0.000000</td>\n",
       "      <td>0.000000</td>\n",
       "      <td>0.000000</td>\n",
       "      <td>1.000000</td>\n",
       "    </tr>\n",
       "    <tr>\n",
       "      <th>max</th>\n",
       "      <td>9.999816e+14</td>\n",
       "      <td>5.790484e+06</td>\n",
       "      <td>115.000000</td>\n",
       "      <td>1.000000</td>\n",
       "      <td>1.000000</td>\n",
       "      <td>1.000000</td>\n",
       "      <td>1.000000</td>\n",
       "      <td>4.000000</td>\n",
       "      <td>1.000000</td>\n",
       "    </tr>\n",
       "  </tbody>\n",
       "</table>\n",
       "</div>"
      ],
      "text/plain": [
       "         patient_id  appointment_id            age    scholarship  \\\n",
       "count  1.105370e+05    1.105370e+05  110537.000000  110535.000000   \n",
       "mean   1.474926e+14    5.675295e+06      37.088957       0.098268   \n",
       "std    2.560896e+14    7.130239e+04      23.109720       0.297677   \n",
       "min    3.921784e+04    5.030230e+06      -1.000000       0.000000   \n",
       "25%    4.172772e+12    5.640276e+06      18.000000       0.000000   \n",
       "50%    3.173185e+13    5.680565e+06      37.000000       0.000000   \n",
       "75%    9.439381e+13    5.725514e+06      55.000000       0.000000   \n",
       "max    9.999816e+14    5.790484e+06     115.000000       1.000000   \n",
       "\n",
       "        hipertension       diabetes     alcoholism        handcap  \\\n",
       "count  110535.000000  110535.000000  110533.000000  110534.000000   \n",
       "mean        0.197232       0.071869       0.030398       0.022247   \n",
       "std         0.397910       0.258271       0.171681       0.161538   \n",
       "min         0.000000       0.000000       0.000000       0.000000   \n",
       "25%         0.000000       0.000000       0.000000       0.000000   \n",
       "50%         0.000000       0.000000       0.000000       0.000000   \n",
       "75%         0.000000       0.000000       0.000000       0.000000   \n",
       "max         1.000000       1.000000       1.000000       4.000000   \n",
       "\n",
       "        sms_received  \n",
       "count  110535.000000  \n",
       "mean        0.321057  \n",
       "std         0.466885  \n",
       "min         0.000000  \n",
       "25%         0.000000  \n",
       "50%         0.000000  \n",
       "75%         1.000000  \n",
       "max         1.000000  "
      ]
     },
     "execution_count": 14,
     "metadata": {},
     "output_type": "execute_result"
    }
   ],
   "source": [
    "df.describe()"
   ]
  },
  {
   "cell_type": "markdown",
   "id": "1b62a630",
   "metadata": {},
   "source": [
    "For a general overview of values, we might want to know the distribution of values on a particular column. We can select columns in a really easy way when they're written without spaces in the names. There are other ways to access columns and rows, which we will cover later, but using the name of the column is the most straight-forward one. Let's say we wanted to see how many rows correspond to genders. We can use <a href=\"https://pandas.pydata.org/docs/reference/api/pandas.DataFrame.value_counts.html\">```value_counts()```</a> on a column to get this:"
   ]
  },
  {
   "cell_type": "code",
   "execution_count": 15,
   "id": "645a6b37",
   "metadata": {
    "scrolled": true
   },
   "outputs": [
    {
     "data": {
      "text/plain": [
       "F    71845\n",
       "M    38688\n",
       "Name: gender, dtype: int64"
      ]
     },
     "execution_count": 15,
     "metadata": {},
     "output_type": "execute_result"
    }
   ],
   "source": [
    "df.gender.value_counts()"
   ]
  },
  {
   "cell_type": "markdown",
   "id": "966563a7",
   "metadata": {},
   "source": [
    "We could also want to explore how many different distinct ages we're dealing with this DataFrame, which we can obtain by using <a href=\"https://pandas.pydata.org/docs/reference/api/pandas.unique.html\">unique()</a>:"
   ]
  },
  {
   "cell_type": "code",
   "execution_count": 16,
   "id": "c649ecae",
   "metadata": {
    "scrolled": true
   },
   "outputs": [
    {
     "data": {
      "text/plain": [
       "array([ 62,  56,   8,  76,  23,  39,  21,  19,  30,  29,  22,  28,  54,\n",
       "        15,  50,  40,  46,   4,  13,  65,  45,  51,  32,  12,  61,  38,\n",
       "        79,  18,  63,  64,  85,  59,  55,  71,  49,  78,  31,  58,  27,\n",
       "         6,   2,  11,   7,   0,   3,   1,  69,  68,  60,  67,  36,  10,\n",
       "        35,  20,  26,  34,  33,  16,  42,   5,  47,  17,  41,  44,  37,\n",
       "        24,  66,  77,  81,  70,  53,  75,  73,  52,  74,  43,  89,  57,\n",
       "        14,   9,  48,  83,  72,  25,  80,  87,  88,  84,  82,  90,  94,\n",
       "        86,  91,  98,  92,  96,  93,  95,  97, 102, 115, 100,  99,  -1])"
      ]
     },
     "execution_count": 16,
     "metadata": {},
     "output_type": "execute_result"
    }
   ],
   "source": [
    "df.age.unique()"
   ]
  },
  {
   "cell_type": "markdown",
   "id": "9248ff7a",
   "metadata": {},
   "source": [
    "We've covered a lot of different methods to assess your data, and you can find a ton more in the documentation, but for now, these are the most relevant ones to get a sense of your data, and to decide which steps to follow to get clean data and ready to analyze data."
   ]
  },
  {
   "cell_type": "markdown",
   "id": "151c3d28",
   "metadata": {},
   "source": [
    "<a id=\"selecting\"></a>\n",
    "## Selecting rows and columns\n",
    "\n",
    "As mentioned before, each row has an index which is given automatically when the data is loaded as a DataFrame, and it will always start from 0 and will continue in order until the last row. This is important to select data based on row index. This can be changed if you have an index column that you want to keep, using the ```index_col``` argument on ```read_csv```, which takes an ```int``` for column index or a ```str``` with the name of the column. You can check your index characteristics, writing the following code:"
   ]
  },
  {
   "cell_type": "code",
   "execution_count": 17,
   "id": "cff39b09",
   "metadata": {},
   "outputs": [
    {
     "data": {
      "text/plain": [
       "RangeIndex(start=0, stop=110537, step=1)"
      ]
     },
     "execution_count": 17,
     "metadata": {},
     "output_type": "execute_result"
    }
   ],
   "source": [
    "df.index"
   ]
  },
  {
   "cell_type": "markdown",
   "id": "530d57a6",
   "metadata": {},
   "source": [
    "This shows us we have 110525 rows (```stop``` value not inclusive), and there should be no skips considering we haven't dropped any rows after we loaded our DataFrame (skiprows doesn't read the rows in the original files, so the DataFrame stays intact since it loads without reading the defined rows, instead of loading all the rows and then dropping them). <br><br>We already know there's more than way of accessing columns and rows, so we'll cover another way here, using <a href=\"https://pandas.pydata.org/pandas-docs/stable/reference/api/pandas.DataFrame.loc.html\">```loc```</a> and <a href=\"https://pandas.pydata.org/pandas-docs/stable/reference/api/pandas.DataFrame.iloc.html\">```iloc```</a>to select by position. They both work in similar ways, but their main difference comes from  ```loc``` being label-based, which means you'll select rows and columns from their labels, while ```iloc``` is integer position-based, so you'll select data based on their integer position values.<br><br>\n",
    "You can use both to select single values as follows:<br>\n",
    "```loc[row_label, column_label]``` and ```iloc[row_position, column_position]```<br><br>\n",
    "In this case, our row labels also correspond to their row position, but it could be also be a ```str``` if the index column is set as something else other than the position."
   ]
  },
  {
   "cell_type": "code",
   "execution_count": 18,
   "id": "9f1eb182",
   "metadata": {},
   "outputs": [
    {
     "data": {
      "text/plain": [
       "'M'"
      ]
     },
     "execution_count": 18,
     "metadata": {},
     "output_type": "execute_result"
    }
   ],
   "source": [
    "df.loc[1, \"gender\"]"
   ]
  },
  {
   "cell_type": "code",
   "execution_count": 19,
   "id": "520c59fc",
   "metadata": {},
   "outputs": [
    {
     "data": {
      "text/plain": [
       "'M'"
      ]
     },
     "execution_count": 19,
     "metadata": {},
     "output_type": "execute_result"
    }
   ],
   "source": [
    "df.iloc[1, 2]"
   ]
  },
  {
   "cell_type": "markdown",
   "id": "9fb819e1",
   "metadata": {},
   "source": [
    "We can see how both ```loc``` and ```iloc``` to get the same result. We can use ```:``` to select the entire column as well:"
   ]
  },
  {
   "cell_type": "code",
   "execution_count": 20,
   "id": "48187b86",
   "metadata": {
    "scrolled": false
   },
   "outputs": [
    {
     "data": {
      "text/plain": [
       "0         F\n",
       "1         M\n",
       "2         F\n",
       "3         F\n",
       "4         F\n",
       "         ..\n",
       "110532    F\n",
       "110533    F\n",
       "110534    F\n",
       "110535    F\n",
       "110536    F\n",
       "Name: gender, Length: 110537, dtype: object"
      ]
     },
     "execution_count": 20,
     "metadata": {},
     "output_type": "execute_result"
    }
   ],
   "source": [
    "df.loc[:, \"gender\"]"
   ]
  },
  {
   "cell_type": "markdown",
   "id": "817575fd",
   "metadata": {},
   "source": [
    "Or a complete row:"
   ]
  },
  {
   "cell_type": "code",
   "execution_count": 21,
   "id": "650a7f13",
   "metadata": {
    "scrolled": true
   },
   "outputs": [
    {
     "data": {
      "text/plain": [
       "patient_id                867951213174.0\n",
       "appointment_id                   5642828\n",
       "gender                                 F\n",
       "scheduled_date      2016-04-29T17:29:31Z\n",
       "appointment_date    2016-04-29T00:00:00Z\n",
       "age                                    8\n",
       "neighbourhood          PONTAL DE CAMBURI\n",
       "scholarship                          0.0\n",
       "hipertension                         0.0\n",
       "diabetes                             0.0\n",
       "alcoholism                           0.0\n",
       "handcap                              0.0\n",
       "sms_received                         0.0\n",
       "no_show                               No\n",
       "Name: 3, dtype: object"
      ]
     },
     "execution_count": 21,
     "metadata": {},
     "output_type": "execute_result"
    }
   ],
   "source": [
    "df.loc[3, :]"
   ]
  },
  {
   "cell_type": "markdown",
   "id": "3f67fb78",
   "metadata": {},
   "source": [
    "Both can take lists as arguments for rows and columns, to get a 2-dimensional output:"
   ]
  },
  {
   "cell_type": "code",
   "execution_count": 22,
   "id": "7353a20a",
   "metadata": {
    "scrolled": true
   },
   "outputs": [
    {
     "data": {
      "text/html": [
       "<div>\n",
       "<style scoped>\n",
       "    .dataframe tbody tr th:only-of-type {\n",
       "        vertical-align: middle;\n",
       "    }\n",
       "\n",
       "    .dataframe tbody tr th {\n",
       "        vertical-align: top;\n",
       "    }\n",
       "\n",
       "    .dataframe thead th {\n",
       "        text-align: right;\n",
       "    }\n",
       "</style>\n",
       "<table border=\"1\" class=\"dataframe\">\n",
       "  <thead>\n",
       "    <tr style=\"text-align: right;\">\n",
       "      <th></th>\n",
       "      <th>appointment_id</th>\n",
       "      <th>gender</th>\n",
       "      <th>age</th>\n",
       "      <th>neighbourhood</th>\n",
       "    </tr>\n",
       "  </thead>\n",
       "  <tbody>\n",
       "    <tr>\n",
       "      <th>1</th>\n",
       "      <td>5642503</td>\n",
       "      <td>M</td>\n",
       "      <td>56</td>\n",
       "      <td>JARDIM DA PENHA</td>\n",
       "    </tr>\n",
       "    <tr>\n",
       "      <th>3</th>\n",
       "      <td>5642828</td>\n",
       "      <td>F</td>\n",
       "      <td>8</td>\n",
       "      <td>PONTAL DE CAMBURI</td>\n",
       "    </tr>\n",
       "  </tbody>\n",
       "</table>\n",
       "</div>"
      ],
      "text/plain": [
       "   appointment_id gender  age      neighbourhood\n",
       "1         5642503      M   56    JARDIM DA PENHA\n",
       "3         5642828      F    8  PONTAL DE CAMBURI"
      ]
     },
     "execution_count": 22,
     "metadata": {},
     "output_type": "execute_result"
    }
   ],
   "source": [
    "df.iloc[[1,3], [1, 2, 5, 6]]"
   ]
  },
  {
   "cell_type": "markdown",
   "id": "3dcab9c9",
   "metadata": {},
   "source": [
    "You can also create slices to have ranges of data. For ```loc```, you can use ```A:B``` to select data from label A to B (both inclusive)."
   ]
  },
  {
   "cell_type": "code",
   "execution_count": 23,
   "id": "56294d77",
   "metadata": {
    "scrolled": true
   },
   "outputs": [
    {
     "data": {
      "text/plain": [
       "15    15\n",
       "16    50\n",
       "17    40\n",
       "18    30\n",
       "19    46\n",
       "20    30\n",
       "21     4\n",
       "22    13\n",
       "23    46\n",
       "24    65\n",
       "25    46\n",
       "Name: age, dtype: int64"
      ]
     },
     "execution_count": 23,
     "metadata": {},
     "output_type": "execute_result"
    }
   ],
   "source": [
    "df.loc[15:25, \"age\"]"
   ]
  },
  {
   "cell_type": "code",
   "execution_count": 24,
   "id": "d4a61c37",
   "metadata": {
    "scrolled": true
   },
   "outputs": [
    {
     "data": {
      "text/html": [
       "<div>\n",
       "<style scoped>\n",
       "    .dataframe tbody tr th:only-of-type {\n",
       "        vertical-align: middle;\n",
       "    }\n",
       "\n",
       "    .dataframe tbody tr th {\n",
       "        vertical-align: top;\n",
       "    }\n",
       "\n",
       "    .dataframe thead th {\n",
       "        text-align: right;\n",
       "    }\n",
       "</style>\n",
       "<table border=\"1\" class=\"dataframe\">\n",
       "  <thead>\n",
       "    <tr style=\"text-align: right;\">\n",
       "      <th></th>\n",
       "      <th>appointment_id</th>\n",
       "      <th>gender</th>\n",
       "      <th>scheduled_date</th>\n",
       "      <th>appointment_date</th>\n",
       "      <th>age</th>\n",
       "      <th>neighbourhood</th>\n",
       "    </tr>\n",
       "  </thead>\n",
       "  <tbody>\n",
       "    <tr>\n",
       "      <th>1</th>\n",
       "      <td>5642503</td>\n",
       "      <td>M</td>\n",
       "      <td>2016-04-29T16:08:27Z</td>\n",
       "      <td>2016-04-29T00:00:00Z</td>\n",
       "      <td>56</td>\n",
       "      <td>JARDIM DA PENHA</td>\n",
       "    </tr>\n",
       "    <tr>\n",
       "      <th>2</th>\n",
       "      <td>5642549</td>\n",
       "      <td>F</td>\n",
       "      <td>2016-04-29T16:19:04Z</td>\n",
       "      <td>2016-04-29T00:00:00Z</td>\n",
       "      <td>62</td>\n",
       "      <td>MATA DA PRAIA</td>\n",
       "    </tr>\n",
       "    <tr>\n",
       "      <th>3</th>\n",
       "      <td>5642828</td>\n",
       "      <td>F</td>\n",
       "      <td>2016-04-29T17:29:31Z</td>\n",
       "      <td>2016-04-29T00:00:00Z</td>\n",
       "      <td>8</td>\n",
       "      <td>PONTAL DE CAMBURI</td>\n",
       "    </tr>\n",
       "    <tr>\n",
       "      <th>4</th>\n",
       "      <td>5642494</td>\n",
       "      <td>F</td>\n",
       "      <td>2016-04-29T16:07:23Z</td>\n",
       "      <td>2016-04-29T00:00:00Z</td>\n",
       "      <td>56</td>\n",
       "      <td>JARDIM DA PENHA</td>\n",
       "    </tr>\n",
       "    <tr>\n",
       "      <th>5</th>\n",
       "      <td>5626772</td>\n",
       "      <td>F</td>\n",
       "      <td>2016-04-27T08:36:51Z</td>\n",
       "      <td>2016-04-29T00:00:00Z</td>\n",
       "      <td>76</td>\n",
       "      <td>REPÚBLICA</td>\n",
       "    </tr>\n",
       "  </tbody>\n",
       "</table>\n",
       "</div>"
      ],
      "text/plain": [
       "   appointment_id gender        scheduled_date      appointment_date  age  \\\n",
       "1         5642503      M  2016-04-29T16:08:27Z  2016-04-29T00:00:00Z   56   \n",
       "2         5642549      F  2016-04-29T16:19:04Z  2016-04-29T00:00:00Z   62   \n",
       "3         5642828      F  2016-04-29T17:29:31Z  2016-04-29T00:00:00Z    8   \n",
       "4         5642494      F  2016-04-29T16:07:23Z  2016-04-29T00:00:00Z   56   \n",
       "5         5626772      F  2016-04-27T08:36:51Z  2016-04-29T00:00:00Z   76   \n",
       "\n",
       "       neighbourhood  \n",
       "1    JARDIM DA PENHA  \n",
       "2      MATA DA PRAIA  \n",
       "3  PONTAL DE CAMBURI  \n",
       "4    JARDIM DA PENHA  \n",
       "5          REPÚBLICA  "
      ]
     },
     "execution_count": 24,
     "metadata": {},
     "output_type": "execute_result"
    }
   ],
   "source": [
    "df.loc[1:5, \"appointment_id\":\"neighbourhood\"]"
   ]
  },
  {
   "cell_type": "markdown",
   "id": "be1c0ec1",
   "metadata": {},
   "source": [
    "You can use the same syntax with ```iloc```, where you define n:m, where m is excluded (the only difference)."
   ]
  },
  {
   "cell_type": "code",
   "execution_count": 25,
   "id": "9c04abbe",
   "metadata": {},
   "outputs": [
    {
     "data": {
      "text/plain": [
       "1      JARDIM DA PENHA\n",
       "2        MATA DA PRAIA\n",
       "3    PONTAL DE CAMBURI\n",
       "4      JARDIM DA PENHA\n",
       "Name: neighbourhood, dtype: object"
      ]
     },
     "execution_count": 25,
     "metadata": {},
     "output_type": "execute_result"
    }
   ],
   "source": [
    "df.iloc[1:5, 6]"
   ]
  },
  {
   "cell_type": "code",
   "execution_count": 26,
   "id": "b9770bc5",
   "metadata": {
    "scrolled": true
   },
   "outputs": [
    {
     "data": {
      "text/html": [
       "<div>\n",
       "<style scoped>\n",
       "    .dataframe tbody tr th:only-of-type {\n",
       "        vertical-align: middle;\n",
       "    }\n",
       "\n",
       "    .dataframe tbody tr th {\n",
       "        vertical-align: top;\n",
       "    }\n",
       "\n",
       "    .dataframe thead th {\n",
       "        text-align: right;\n",
       "    }\n",
       "</style>\n",
       "<table border=\"1\" class=\"dataframe\">\n",
       "  <thead>\n",
       "    <tr style=\"text-align: right;\">\n",
       "      <th></th>\n",
       "      <th>patient_id</th>\n",
       "      <th>appointment_id</th>\n",
       "      <th>gender</th>\n",
       "      <th>scheduled_date</th>\n",
       "    </tr>\n",
       "  </thead>\n",
       "  <tbody>\n",
       "    <tr>\n",
       "      <th>10</th>\n",
       "      <td>7.345362e+14</td>\n",
       "      <td>5630213</td>\n",
       "      <td>F</td>\n",
       "      <td>2016-04-27T14:58:11Z</td>\n",
       "    </tr>\n",
       "    <tr>\n",
       "      <th>11</th>\n",
       "      <td>7.542951e+12</td>\n",
       "      <td>5620163</td>\n",
       "      <td>M</td>\n",
       "      <td>2016-04-26T08:44:12Z</td>\n",
       "    </tr>\n",
       "    <tr>\n",
       "      <th>12</th>\n",
       "      <td>5.666548e+14</td>\n",
       "      <td>5634718</td>\n",
       "      <td>F</td>\n",
       "      <td>2016-04-28T11:33:51Z</td>\n",
       "    </tr>\n",
       "    <tr>\n",
       "      <th>13</th>\n",
       "      <td>9.113946e+14</td>\n",
       "      <td>5636249</td>\n",
       "      <td>M</td>\n",
       "      <td>2016-04-28T14:52:07Z</td>\n",
       "    </tr>\n",
       "    <tr>\n",
       "      <th>14</th>\n",
       "      <td>9.988472e+13</td>\n",
       "      <td>5633951</td>\n",
       "      <td>F</td>\n",
       "      <td>2016-04-28T10:06:24Z</td>\n",
       "    </tr>\n",
       "    <tr>\n",
       "      <th>15</th>\n",
       "      <td>9.994839e+10</td>\n",
       "      <td>5620206</td>\n",
       "      <td>F</td>\n",
       "      <td>2016-04-26T08:47:27Z</td>\n",
       "    </tr>\n",
       "    <tr>\n",
       "      <th>16</th>\n",
       "      <td>8.457439e+13</td>\n",
       "      <td>5633121</td>\n",
       "      <td>M</td>\n",
       "      <td>2016-04-28T08:51:47Z</td>\n",
       "    </tr>\n",
       "    <tr>\n",
       "      <th>17</th>\n",
       "      <td>1.479497e+13</td>\n",
       "      <td>5633460</td>\n",
       "      <td>F</td>\n",
       "      <td>2016-04-28T09:28:57Z</td>\n",
       "    </tr>\n",
       "    <tr>\n",
       "      <th>18</th>\n",
       "      <td>1.713538e+13</td>\n",
       "      <td>5621836</td>\n",
       "      <td>F</td>\n",
       "      <td>2016-04-26T10:54:18Z</td>\n",
       "    </tr>\n",
       "    <tr>\n",
       "      <th>19</th>\n",
       "      <td>7.223289e+12</td>\n",
       "      <td>5640433</td>\n",
       "      <td>F</td>\n",
       "      <td>2016-04-29T10:43:14Z</td>\n",
       "    </tr>\n",
       "  </tbody>\n",
       "</table>\n",
       "</div>"
      ],
      "text/plain": [
       "      patient_id  appointment_id gender        scheduled_date\n",
       "10  7.345362e+14         5630213      F  2016-04-27T14:58:11Z\n",
       "11  7.542951e+12         5620163      M  2016-04-26T08:44:12Z\n",
       "12  5.666548e+14         5634718      F  2016-04-28T11:33:51Z\n",
       "13  9.113946e+14         5636249      M  2016-04-28T14:52:07Z\n",
       "14  9.988472e+13         5633951      F  2016-04-28T10:06:24Z\n",
       "15  9.994839e+10         5620206      F  2016-04-26T08:47:27Z\n",
       "16  8.457439e+13         5633121      M  2016-04-28T08:51:47Z\n",
       "17  1.479497e+13         5633460      F  2016-04-28T09:28:57Z\n",
       "18  1.713538e+13         5621836      F  2016-04-26T10:54:18Z\n",
       "19  7.223289e+12         5640433      F  2016-04-29T10:43:14Z"
      ]
     },
     "execution_count": 26,
     "metadata": {},
     "output_type": "execute_result"
    }
   ],
   "source": [
    "df.iloc[10:20, 0:4]"
   ]
  },
  {
   "cell_type": "markdown",
   "id": "3b66bee3",
   "metadata": {},
   "source": [
    "You can read what else you can do with ```loc``` and ```iloc``` in this great <a href=\"https://towardsdatascience.com/how-to-use-loc-and-iloc-for-selecting-data-in-pandas-bd09cb4c3d79\">blog post</a>."
   ]
  },
  {
   "cell_type": "markdown",
   "id": "18c41048",
   "metadata": {},
   "source": [
    "<a id=\"queries\"></a>\n",
    "## Queries and groupby"
   ]
  },
  {
   "cell_type": "code",
   "execution_count": null,
   "id": "0f07105d",
   "metadata": {},
   "outputs": [],
   "source": []
  }
 ],
 "metadata": {
  "kernelspec": {
   "display_name": "Python 3",
   "language": "python",
   "name": "python3"
  },
  "language_info": {
   "codemirror_mode": {
    "name": "ipython",
    "version": 3
   },
   "file_extension": ".py",
   "mimetype": "text/x-python",
   "name": "python",
   "nbconvert_exporter": "python",
   "pygments_lexer": "ipython3",
   "version": "3.8.8"
  }
 },
 "nbformat": 4,
 "nbformat_minor": 5
}
