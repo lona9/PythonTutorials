{
 "cells": [
  {
   "cell_type": "markdown",
   "id": "c64992c4",
   "metadata": {},
   "source": [
    "## Hello!\n",
    "\n",
    "This notebook is a team effort to provide general resources on how to use Jupyter Notebooks for analysis, pretty documentation, exploring and assessing data, and much more!"
   ]
  },
  {
   "cell_type": "markdown",
   "id": "1d4891a9",
   "metadata": {},
   "source": [
    "## Menu\n",
    "- <a href=\"#Introduction\"> Introduction and Installation</a>\n",
    "- <a href=\"#General\"> How to Use</a>\n",
    "- <a href=\"#Markdown\"> Markdown</a>\n",
    "- <a href=\"#More\"> And even more!</a>"
   ]
  },
  {
   "cell_type": "markdown",
   "id": "ccc10a00",
   "metadata": {},
   "source": [
    "<a id='Introduction'></a>\n",
    "## Introduction and Installation\n",
    "\n",
    "What is a Jupyter Notebook? For context, you're looking at one right now! A Jupyter Notebook is a web-application that allows you to create and share documents that contain live code, equations, visualizations and narrative text. They're popularly used for data analysis and exploration, machine learning, visualization and much more. It supports many different languages, produces rich and interactive output and can be easily shared for others to see or even run on their own computers without too much hassle or implementation. We'll use Notebooks to teach YOU how to use them! Here you'll find the basics of how to use and format a Notebook, as well as some tips on how to make them pretty and organized.\n",
    "\n",
    "But first! If you're seeing this as a repo and you're excited already about using them on your computer, we'll walk you through the installation process, after that you'll be able to run this same notebook and test every code cell you see here.\n",
    "\n",
    "### Install Anaconda\n",
    "\n",
    "To get Jupyter Notebooks, we first need to install Anaconda, which is a program to manage packages and enviroments to use with Python. Anaconda is available for Windows, Mac OS X and Linux. You can go to this <a href=\"https://www.anaconda.com/products/individual\">link</a> to download the installer, choose the Python 3.7 or higher version, and the appropriate 64/32-bit installer. If you already have Python installed on your computer, this won't break anything. Instead, the default Python used by your scripts and programs will be the one that comes with Anaconda. You can find further installation instructions <a href=\"https://docs.anaconda.com/anaconda/install/\">here</a>. \n",
    "After installation, you can check out your own install by entering ```conda list``` into your terminal, which will list all packages installed.\n",
    "To avoid errors in the future, you can run an upgrade on all packages installed with the following commands: ```conda upgrade conda``` and ```conda upgrade --all```. This usually solves many random issues you might get along the way.\n",
    "\n",
    "### Check/Install pip\n",
    "After that installation, ```pip``` should be installed automatically, and you can check so by typing ```pip --version```. If the command is not recognized, you need to install pip manually to be able to install packages via pip later on. You can install ```pip``` by typing the following command on your terminal: ```conda install pip```. After that process is over, you can check the version again to make sure everything is installed correctly.\n",
    "\n",
    "*Note: You might need to use pip3 instead, depending on the enviroment you're using and if you had installed different Python versions before Anaconda. If you get an error with pip, try pip3 and see if that works instead.*\n",
    "\n",
    "### Finally... Install Jupyter Notebook\n",
    "After Anaconda is ready, you'll have the Anaconda Navigator, which should include Jupyter Notebooks ready to use after just clicking on the icon. If you get an error saying something's missing, you might need to install it manually. You can take care of this by using ```pip install jupyter notebook```. After that process, you will be able to type ```jupyter notebook``` on your Conda terminal, and it will launch Jupyter Notebook on your default browser. "
   ]
  },
  {
   "cell_type": "markdown",
   "id": "6b2c7110",
   "metadata": {},
   "source": [
    "<a id='General'></a>\n",
    "## How to use"
   ]
  },
  {
   "cell_type": "markdown",
   "id": "31e54d08",
   "metadata": {},
   "source": [
    "After all that installing, upgrading, getting a bunch of random errors but things working out in the end, you can finally start using your Notebook! Notebooks have different types of cells which you can use depending on your intent. "
   ]
  },
  {
   "cell_type": "markdown",
   "id": "05862c27",
   "metadata": {},
   "source": [
    "This is a Markdown cell and can be used for general documentation and other pretty things (and all the above cells are also Markdown!)."
   ]
  },
  {
   "cell_type": "code",
   "execution_count": 1,
   "id": "d3812a1b",
   "metadata": {},
   "outputs": [
    {
     "name": "stdout",
     "output_type": "stream",
     "text": [
      "Hello World!\n"
     ]
    }
   ],
   "source": [
    "# This is a code cell, it's not intended for text besides comments, and you can use it to run code!\n",
    "\n",
    "print(\"Hello World!\")"
   ]
  },
  {
   "cell_type": "markdown",
   "id": "268a4b5e",
   "metadata": {},
   "source": [
    "As you can see, code cells have a corresponding output cell, which will be computed as you run each cell. \n",
    "\n",
    "You have different options to run cells, which you can see on the menu, but here are some quick shortcuts for cell making and cell running:\n",
    "\n",
    "- Type ```Y``` on a selected cell to turn it into a code cell.\n",
    "- Type ```M``` on a selected cell to turn it into a Markdown cell.\n",
    "- Use ```Ctrl-Enter``` or ```Cmd-Enter``` to run a single cell (and select it).\n",
    "- Use ```Shift-Enter``` to run a single cell and select the one below.\n",
    "- Use ```Option-Enter``` to run a single cell and create a new code cell below it.\n",
    "- Type ```B``` on a selected cell to create a new code cell below it.\n",
    "- Type ```A``` on a selected cell to create a new code cell above it.\n",
    "- Type ```D``` twice on a selected cell to remove it.\n",
    "\n",
    "You can also open the command palette (the little keyboard next to the menu) to find a lot of options to edit and modify your cells, merge them, move them, etc, so feel free to explore!"
   ]
  },
  {
   "cell_type": "markdown",
   "id": "f1f23bd8",
   "metadata": {},
   "source": [
    "When coding, it's better to use a few lines of code per cell, because it's easier to read, to test and also makes it easier if you need to delete any lines and you don't have to run the entire block again, just the parts you edited, so that saves a lot of time. It's good practice to mix with markdown cells for general documentation or just to give a better structure to your work."
   ]
  },
  {
   "cell_type": "markdown",
   "id": "e28c34dd",
   "metadata": {},
   "source": [
    "### Importing packages\n",
    "Now that you know you can code, how to you import packages to make things more interesting? Because you already installed Anaconda, which includes a lot of data science packages, you probably won't have to do much else other than, well, importing! But if you're using a fancy new package that's not included in Anaconda (you'll get an error when importing), you're gonna have to install it on your terminal using the pip command again. After it's installed, it's customary to keep all your imports on a single cell at the very start of your code. That way, you only run your imports once and then you can forget about it!<br> Let's do a quick import to show you how it works."
   ]
  },
  {
   "cell_type": "code",
   "execution_count": 2,
   "id": "7ec5e7ad",
   "metadata": {},
   "outputs": [],
   "source": [
    "from datetime import datetime"
   ]
  },
  {
   "cell_type": "code",
   "execution_count": 3,
   "id": "3dfbccfb",
   "metadata": {},
   "outputs": [
    {
     "name": "stdout",
     "output_type": "stream",
     "text": [
      "Today is Thursday!\n"
     ]
    }
   ],
   "source": [
    "week_day = datetime.now().strftime(\"%A\")\n",
    "print(f\"Today is {week_day}!\")"
   ]
  },
  {
   "cell_type": "markdown",
   "id": "7331ecc3",
   "metadata": {},
   "source": [
    "### Versioning and checkpoints\n",
    "\n",
    "As with any coding, it's important to version your work and Notebooks are not the exception, specially considering you can't really undo certain changes, or because it's easy to get carried away coding, and if you're messy you might forget what the previous coding block was about and now you can't get an error to go away. Not worrying about that is easy if you follow a few simple steps to ensure you don't lose any of your precious work:\n",
    "- **You overwrote some code accidentally (or not so much) and you can't Ctrl-Z your way to the start?** Since no one's charging you per cell you create, it's best to test new implementations in new cells instead of writing a cell that's already been tested (this is particularly true if it's a bigger block of code). Since cells can run independently, you can copy+paste your original code on a new cell and then make changes and test them separately until you're sure and happy with the results, and only then, replace the original, to avoid losing important lines.\n",
    "- **You messed up pretty badly and need to go WAY back to a point in the past where you made better decisions.** You should use checkpoints regularly, at point where you're sure everything works just fine, or it's easy to pick up if you need to revert. You can do so using the Save button on the menu, and you can choose which checkpoint you want to revert your work to, going to File -> Revert to Checkpoint -> *Your desired timestamp*.\n",
    "- **You want to show your progress so far to other teammates or want to see what you did for another Notebook and don't remember where you put the file**. GitHub can render Notebooks pretty well, and will serve as a quick reference to see how you or others did X things for which you don't have the file at hand (or the shortcut to GitHub is just faster). You get versioning and good coding practices, and some green blocks for your GitHub profile!"
   ]
  },
  {
   "cell_type": "markdown",
   "id": "0c35e2ca",
   "metadata": {},
   "source": [
    "<a id='Markdown'></a>\n",
    "## Markdown\n",
    "Jupyter Markdown has a lot of cool tricks to make your Notebooks pretty and organized. You can learn all about Markdown <a href=\"https://jupyter-notebook.readthedocs.io/en/stable/examples/Notebook/Working%20With%20Markdown%20Cells.html\">here</a>, but we'll cover the basics for general formatting.\n",
    "\n",
    "For emphasis on different words you can surround a word with single asterisks like ```*this*``` to make it look like *this* or with double asterisks like ```**this**``` to have **this**.<br><br>You can also use ```>``` for indentation:\n",
    "> This is indented!"
   ]
  },
  {
   "cell_type": "markdown",
   "id": "dc9ae53b",
   "metadata": {},
   "source": [
    "Then, we have headers! Typing the following on the cell...\n",
    "\n",
    "```# Header 1```\n",
    "\n",
    "```## Header 2```\n",
    "\n",
    "```### Header 3```\n",
    "\n",
    "```#### Header 4```\n",
    "\n",
    "will result in different level headers like this:\n",
    "\n",
    "# Header 1\n",
    "## Header 2\n",
    "### Header 3\n",
    "#### Header 4"
   ]
  },
  {
   "cell_type": "markdown",
   "id": "29fa2158",
   "metadata": {},
   "source": [
    "You can even get a nicely formatted equation using markdown, like this example shows:\n",
    "\n",
    "```\\begin{equation}\n",
    "e^x=\\sum_{i=0}^\\infty \\frac{1}{i!}x^i\n",
    "\\end{equation}```\n",
    "\n",
    "\\begin{equation}\n",
    "e^x=\\sum_{i=0}^\\infty \\frac{1}{i!}x^i\n",
    "\\end{equation}\n",
    "\n",
    "You can also use HTML for several things, like menus with references (like the menu on this Notebook!). You can also use it to force line breaks with ```<br>```, as Notebooks don't always do line breaks as you'd want them to. You can use it to add links, using ```<a href=\"your link\">Link name</a>```, or you can also place pictures here using ```<img src=\"your link\"/>```, so I can show you how pretty cherry blossoms are:"
   ]
  },
  {
   "cell_type": "markdown",
   "id": "fe84886b",
   "metadata": {},
   "source": [
    "<img src=\"https://www.heimat-ltd.com/en/wp-content/uploads/resources_sakura.jpg\"/>"
   ]
  },
  {
   "cell_type": "markdown",
   "id": "1a062310",
   "metadata": {},
   "source": [
    "<a id='More'></a>\n",
    "## And even more!\n",
    "\n",
    "If you've followed this Notebook, you've learned how to install and use Jupyter Notebooks on your own computer, so congrats! However, you're probably thinking, \"this is cool and all but where is the coding?!?!?\" and fear not! For there is a lot more to come and do! Now that you can feel somewhat comfortable using Notebooks, you can check this other super awesome <a href=\"https://github.com/lona9/PythonTutorials/blob/master/Pandas%20Tutorial.ipynb\">tutorial</a> where you'll learn how to use Pandas using your newly acquired Jupyter Notebook skills! \n",
    "\n",
    "Here's a list of additional resources you can check if you want to learn more about Jupyter Notebooks:\n",
    "- <a href=\"https://jupyter-notebook.readthedocs.io/en/stable/notebook.html\">Documentation</a>\n",
    "- <a href=\"https://ipython.readthedocs.io/en/stable/interactive/magics.html\">Magic words</a>\n",
    "- <a href=\"https://sqlbak.com/blog/jupyter-notebook-markdown-cheatsheet\">Markdown Cheatsheet</a>\n",
    "- <a href=\"https://nbconvert.readthedocs.io/en/latest/\">nbconvert package to convert Notebooks into other formats</a>"
   ]
  }
 ],
 "metadata": {
  "kernelspec": {
   "display_name": "Python 3",
   "language": "python",
   "name": "python3"
  },
  "language_info": {
   "codemirror_mode": {
    "name": "ipython",
    "version": 3
   },
   "file_extension": ".py",
   "mimetype": "text/x-python",
   "name": "python",
   "nbconvert_exporter": "python",
   "pygments_lexer": "ipython3",
   "version": "3.8.8"
  }
 },
 "nbformat": 4,
 "nbformat_minor": 5
}
